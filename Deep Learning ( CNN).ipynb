{
 "cells": [
  {
   "cell_type": "code",
   "execution_count": 1,
   "id": "c3d2bc1b",
   "metadata": {},
   "outputs": [],
   "source": [
    "import tensorflow as tf\n",
    "import keras"
   ]
  },
  {
   "cell_type": "code",
   "execution_count": 2,
   "id": "27a0ab7f",
   "metadata": {},
   "outputs": [
    {
     "name": "stdout",
     "output_type": "stream",
     "text": [
      "Requirement already satisfied: opencv-python in c:\\users\\kirti raj pradhan\\anaconda3\\lib\\site-packages (4.6.0.66)\n",
      "Requirement already satisfied: numpy>=1.19.3 in c:\\users\\kirti raj pradhan\\anaconda3\\lib\\site-packages (from opencv-python) (1.21.5)\n",
      "Note: you may need to restart the kernel to use updated packages.\n"
     ]
    }
   ],
   "source": [
    "pip install opencv-python"
   ]
  },
  {
   "cell_type": "code",
   "execution_count": 3,
   "id": "c28ce3d3",
   "metadata": {},
   "outputs": [],
   "source": [
    "import cv2"
   ]
  },
  {
   "cell_type": "markdown",
   "id": "c2a32dff",
   "metadata": {},
   "source": [
    "## Image Data Preprocessing"
   ]
  },
  {
   "cell_type": "code",
   "execution_count": 4,
   "id": "35df1b7c",
   "metadata": {},
   "outputs": [],
   "source": [
    "from keras.preprocessing.image import ImageDataGenerator"
   ]
  },
  {
   "cell_type": "markdown",
   "id": "95dbeffc",
   "metadata": {},
   "source": [
    "### Preprocessing the Training set"
   ]
  },
  {
   "cell_type": "code",
   "execution_count": 5,
   "id": "fa77b351",
   "metadata": {},
   "outputs": [],
   "source": [
    "gen=ImageDataGenerator(rescale=1/255,shear_range=0.2,zoom_range=0.2)"
   ]
  },
  {
   "cell_type": "code",
   "execution_count": 6,
   "id": "456d5dfb",
   "metadata": {},
   "outputs": [],
   "source": [
    "## bring to the dataset inside where jupyter all files are there then execute with \\-->\\\\"
   ]
  },
  {
   "cell_type": "code",
   "execution_count": 7,
   "id": "96e63110",
   "metadata": {},
   "outputs": [
    {
     "name": "stdout",
     "output_type": "stream",
     "text": [
      "Found 8048 images belonging to 2 classes.\n"
     ]
    }
   ],
   "source": [
    "training_set=gen.flow_from_directory('C:\\\\Users\\\\KIRTI RAJ PRADHAN\\\\datset\\\\training_set',target_size=(64,64),class_mode='binary')"
   ]
  },
  {
   "cell_type": "code",
   "execution_count": 8,
   "id": "2702a044",
   "metadata": {},
   "outputs": [
    {
     "data": {
      "text/plain": [
       "{'cats': 0, 'dogs': 1}"
      ]
     },
     "execution_count": 8,
     "metadata": {},
     "output_type": "execute_result"
    }
   ],
   "source": [
    "training_set.class_indices"
   ]
  },
  {
   "cell_type": "markdown",
   "id": "1ff76321",
   "metadata": {},
   "source": [
    "### Preprocessing the Test set"
   ]
  },
  {
   "cell_type": "code",
   "execution_count": 9,
   "id": "dae4f637",
   "metadata": {},
   "outputs": [],
   "source": [
    "test_datagen=ImageDataGenerator(rescale=1/255)"
   ]
  },
  {
   "cell_type": "code",
   "execution_count": 10,
   "id": "be04132c",
   "metadata": {},
   "outputs": [
    {
     "name": "stdout",
     "output_type": "stream",
     "text": [
      "Found 2000 images belonging to 2 classes.\n"
     ]
    }
   ],
   "source": [
    "test_set=test_datagen.flow_from_directory(\"C:\\\\Users\\\\KIRTI RAJ PRADHAN\\\\datset\\\\test_set\",target_size=(64,64),class_mode='binary')"
   ]
  },
  {
   "cell_type": "markdown",
   "id": "a2c24145",
   "metadata": {},
   "source": [
    "## Modelling\n",
    "### Building the Convolution Neural network"
   ]
  },
  {
   "cell_type": "code",
   "execution_count": 11,
   "id": "08f53a9d",
   "metadata": {},
   "outputs": [],
   "source": [
    "### Initializing the CNN\n",
    "from keras.models import Sequential\n",
    "classifier=Sequential()"
   ]
  },
  {
   "cell_type": "markdown",
   "id": "8ae6e1ab",
   "metadata": {},
   "source": [
    "**step 1 - Convolution**"
   ]
  },
  {
   "cell_type": "code",
   "execution_count": 12,
   "id": "e6f790a3",
   "metadata": {},
   "outputs": [],
   "source": [
    "from keras.layers import Conv2D\n",
    "classifier.add(Conv2D(filters=32,kernel_size=3,activation='relu',input_shape=[64,64,3]))"
   ]
  },
  {
   "cell_type": "markdown",
   "id": "af5618c1",
   "metadata": {},
   "source": [
    "**step 2 - Pooling**"
   ]
  },
  {
   "cell_type": "code",
   "execution_count": 13,
   "id": "f9c8daeb",
   "metadata": {},
   "outputs": [],
   "source": [
    "from keras.layers import MaxPooling2D\n",
    "classifier.add(MaxPooling2D(pool_size=2,strides=2))"
   ]
  },
  {
   "cell_type": "markdown",
   "id": "6bcaa732",
   "metadata": {},
   "source": [
    "**Add a second convolutional layer**"
   ]
  },
  {
   "cell_type": "code",
   "execution_count": 14,
   "id": "04ee495c",
   "metadata": {},
   "outputs": [],
   "source": [
    "classifier.add(Conv2D(filters=32,kernel_size=3,activation='relu'))\n",
    "classifier.add(MaxPooling2D(pool_size=2,strides=2))"
   ]
  },
  {
   "cell_type": "markdown",
   "id": "d4477337",
   "metadata": {},
   "source": [
    "**Flattening**"
   ]
  },
  {
   "cell_type": "code",
   "execution_count": 15,
   "id": "ef11aad4",
   "metadata": {},
   "outputs": [],
   "source": [
    "from keras.layers import Flatten\n",
    "classifier.add(Flatten())"
   ]
  },
  {
   "cell_type": "markdown",
   "id": "7ac435c0",
   "metadata": {},
   "source": [
    "**Full Connection**"
   ]
  },
  {
   "cell_type": "code",
   "execution_count": 16,
   "id": "553ae914",
   "metadata": {},
   "outputs": [],
   "source": [
    "from keras.layers import Dense\n",
    "classifier.add(Dense(units=128,activation='relu'))  # hidden layer with 128 neurons\n",
    "classifier.add(Dense(units=1,activation='sigmoid')) # Output layer with 1 neuron"
   ]
  },
  {
   "cell_type": "markdown",
   "id": "39c22d77",
   "metadata": {},
   "source": [
    "### Compiling the CNN"
   ]
  },
  {
   "cell_type": "code",
   "execution_count": null,
   "id": "bb17d368",
   "metadata": {},
   "outputs": [],
   "source": [
    "classifier.compile(optimizer='adam',loss='binary_crossentropy',metrics=['accuracy'])"
   ]
  },
  {
   "cell_type": "markdown",
   "id": "d4f8e913",
   "metadata": {},
   "source": [
    "## Training the CNN Model with train data"
   ]
  },
  {
   "cell_type": "code",
   "execution_count": null,
   "id": "3331c16f",
   "metadata": {},
   "outputs": [],
   "source": [
    "classifier.fit(x=training_set,validation_data=test_set,epochs=25)"
   ]
  },
  {
   "cell_type": "markdown",
   "id": "1491c0ec",
   "metadata": {},
   "source": [
    "## Evaluation\n",
    "### . Making a singal prediction"
   ]
  },
  {
   "cell_type": "code",
   "execution_count": null,
   "id": "69bc0ea4",
   "metadata": {},
   "outputs": [],
   "source": [
    "import numpy as np\n",
    "from PIL import Image"
   ]
  },
  {
   "cell_type": "code",
   "execution_count": null,
   "id": "0b9d224c",
   "metadata": {},
   "outputs": [],
   "source": [
    "test_image= Image.open(\"C:\\\\Users\\\\KIRTI RAJ PRADHAN\\datset\\\\single_prediction\\\\cat_or_dog_2.jpg\")\n",
    "test_image=test_image.resize((64,64))\n",
    "test_image=np.array(test_image)\n",
    "test_image=np.expand_dims(test_image,axis=0)"
   ]
  },
  {
   "cell_type": "code",
   "execution_count": null,
   "id": "ffc843e4",
   "metadata": {},
   "outputs": [],
   "source": [
    "result=classifier.predict(test_image)"
   ]
  },
  {
   "cell_type": "code",
   "execution_count": null,
   "id": "b09b4580",
   "metadata": {},
   "outputs": [],
   "source": [
    "if result[0][0]==1:\n",
    "    print(\"Dog\")\n",
    "else:\n",
    "    print(\"Cat\")"
   ]
  },
  {
   "cell_type": "code",
   "execution_count": null,
   "id": "23393846",
   "metadata": {},
   "outputs": [],
   "source": [
    "test_image= Image.open(\"C:\\\\Users\\\\KIRTI RAJ PRADHAN\\datset\\\\single_prediction\\\\cat_or_dog_1.jpg\")\n",
    "test_image=test_image.resize((64,64))\n",
    "test_image=np.array(test_image)\n",
    "test_image=np.expand_dims(test_image,axis=0)\n",
    "result=classifier.predict(test_image)\n",
    "if result[0][0]==1:\n",
    "    print(\"Dog\")\n",
    "else:\n",
    "    print(\"Cat\")"
   ]
  },
  {
   "cell_type": "code",
   "execution_count": null,
   "id": "bceb3a7a",
   "metadata": {},
   "outputs": [],
   "source": [
    "test_image= Image.open(\"C:\\\\Users\\\\KIRTI RAJ PRADHAN\\datset\\\\single_prediction\\\\cat_or_dog_1.jpg\")\n",
    "test_image=test_image.resize((64,64))\n",
    "test_image=np.array(test_image)\n",
    "test_image=np.expand_dims(test_image,axis=0)"
   ]
  },
  {
   "cell_type": "code",
   "execution_count": null,
   "id": "b4b524f7",
   "metadata": {},
   "outputs": [],
   "source": []
  }
 ],
 "metadata": {
  "kernelspec": {
   "display_name": "Python 3 (ipykernel)",
   "language": "python",
   "name": "python3"
  },
  "language_info": {
   "codemirror_mode": {
    "name": "ipython",
    "version": 3
   },
   "file_extension": ".py",
   "mimetype": "text/x-python",
   "name": "python",
   "nbconvert_exporter": "python",
   "pygments_lexer": "ipython3",
   "version": "3.9.12"
  }
 },
 "nbformat": 4,
 "nbformat_minor": 5
}
